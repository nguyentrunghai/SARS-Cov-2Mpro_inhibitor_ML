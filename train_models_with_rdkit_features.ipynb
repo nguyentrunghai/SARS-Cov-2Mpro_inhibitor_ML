{
 "cells": [
  {
   "cell_type": "code",
   "execution_count": null,
   "metadata": {},
   "outputs": [],
   "source": [
    "import time\n",
    "import copy\n",
    "import pickle\n",
    "\n",
    "import numpy as np\n",
    "import pandas as pd\n",
    "from IPython.core.display import display, HTML\n",
    "display(HTML(\"<style>.container { width:100% !important; }</style>\"))\n",
    "\n",
    "from sklearn.model_selection import cross_val_score\n",
    "from sklearn.metrics import mean_squared_error, r2_score, make_scorer\n",
    "\n",
    "from sklearn.linear_model import LinearRegression, Ridge\n",
    "from sklearn.ensemble import RandomForestRegressor\n",
    "\n",
    "from xgboost import XGBRegressor\n",
    "\n",
    "from hyperopt import fmin, tpe, hp, STATUS_OK, Trials\n",
    "from hyperopt.pyll import scope"
   ]
  },
  {
   "cell_type": "code",
   "execution_count": null,
   "metadata": {},
   "outputs": [],
   "source": [
    "def display_df(df):\n",
    "    display(HTML(df.to_html()))\n",
    "    return None"
   ]
  },
  {
   "cell_type": "code",
   "execution_count": null,
   "metadata": {},
   "outputs": [],
   "source": [
    "def rmse(estimator, X_eval, y_eval):\n",
    "    y_hat = estimator.predict(X_eval)\n",
    "    return np.sqrt(mean_squared_error(y_eval, y_hat))\n",
    "\n",
    "\n",
    "def r2(estimator, X_eval, y_eval):\n",
    "    y_hat = estimator.predict(X_eval)\n",
    "    return r2_score(y_eval, y_hat)\n",
    "\n",
    "\n",
    "def peason_r(estimator, X_eval, y_eval):\n",
    "    y_hat = estimator.predict(X_eval)\n",
    "    return np.corrcoef(y_eval, y_hat)[0, 1]\n",
    "\n",
    "\n",
    "def peason_r_metric(y_true, y_pred):\n",
    "    return np.corrcoef(y_true, y_pred)[0, 1]\n",
    "\n",
    "peason_r_score = make_scorer(peason_r_metric)"
   ]
  },
  {
   "cell_type": "code",
   "execution_count": null,
   "metadata": {},
   "outputs": [],
   "source": [
    "def whole_to_int(a_dict):\n",
    "    new_dict = copy.deepcopy(a_dict)\n",
    "    for k, v in new_dict.items():\n",
    "        if np.isclose(np.round(v), v):\n",
    "            new_dict[k] = int(new_dict[k])\n",
    "    return new_dict\n",
    "\n",
    "\n",
    "def hyperopt_reg(regressor,\n",
    "                 params_tuned, \n",
    "                 X_train, y_train,\n",
    "                 num_eval,\n",
    "                 params_fixed=None,\n",
    "                 rstate=None):\n",
    "    \n",
    "    time_start = time.time()\n",
    "    if params_fixed is None:\n",
    "        params_fixed = {}\n",
    "    \n",
    "    def objective(params):\n",
    "        regressor.set_params(**params_fixed, **params)\n",
    "        # may use scoring='r2', \"neg_mean_squared_error\"\n",
    "        neg_mse = cross_val_score(regressor, X_train, y_train, cv=10, scoring=\"neg_mean_squared_error\").mean()\n",
    "        #r2 = cross_val_score(regressor, X_train, y_train, cv=10, scoring=\"r2\").mean()\n",
    "        #pearson_r = cross_val_score(regressor, X_train, y_train, cv=10, scoring=peason_r_score).mean()\n",
    "        return {\"loss\": -neg_mse, \"status\": STATUS_OK}\n",
    "    \n",
    "    if rstate is not None:\n",
    "        rstate = np.random.RandomState(rstate)\n",
    "        \n",
    "    trials = Trials()\n",
    "    best_params = fmin(objective, \n",
    "                      params_tuned, \n",
    "                      algo=tpe.suggest, \n",
    "                      max_evals=num_eval, \n",
    "                      trials=trials,\n",
    "                      rstate=rstate)\n",
    "    \n",
    "    best_params = whole_to_int(best_params)\n",
    "    best_model = regressor.set_params(**params_fixed, **best_params)\n",
    "    best_model.fit(X_train, y_train)\n",
    "    \n",
    "    time_end = time.time()\n",
    "    time_elapse = time_end - time_start\n",
    "    print(\"Time elapsed: %0.5f s\" % time_elapse)\n",
    "    return trials, best_params, best_model"
   ]
  },
  {
   "cell_type": "markdown",
   "metadata": {},
   "source": [
    "# Load train/test"
   ]
  },
  {
   "cell_type": "code",
   "execution_count": null,
   "metadata": {},
   "outputs": [],
   "source": [
    "pdXY = pd.read_csv(\"data/process/pdXY_rdkit_descriptors_105ft_clean.csv\")\n",
    "pdXY.head()"
   ]
  },
  {
   "cell_type": "code",
   "execution_count": null,
   "metadata": {},
   "outputs": [],
   "source": [
    "pdXY.shape"
   ]
  },
  {
   "cell_type": "code",
   "execution_count": null,
   "metadata": {},
   "outputs": [],
   "source": [
    "PDY_COLS = [\"raw_Code\", \"code\", \"smiles\", \"smiles_len\", \"train_test\", \"dG\"]\n",
    "PDX_COLS = [col for col in pdXY.columns if col not in PDY_COLS]\n",
    "print(len(PDX_COLS))\n",
    "\n",
    "X_train = pdXY.loc[pdXY[\"train_test\"] == \"train\", PDX_COLS].copy().values\n",
    "y_train = pdXY.loc[pdXY[\"train_test\"] == \"train\", \"dG\"].copy().values\n",
    "print(X_train.shape, y_train.shape)\n",
    "\n",
    "X_test = pdXY.loc[pdXY[\"train_test\"] == \"test\", PDX_COLS].copy().values\n",
    "y_test = pdXY.loc[pdXY[\"train_test\"] == \"test\", \"dG\"].copy().values\n",
    "print(X_test.shape, y_test.shape)"
   ]
  },
  {
   "cell_type": "code",
   "execution_count": null,
   "metadata": {},
   "outputs": [],
   "source": [
    "pdXY.head()"
   ]
  },
  {
   "cell_type": "code",
   "execution_count": null,
   "metadata": {},
   "outputs": [],
   "source": [
    "X_all = pdXY[PDX_COLS].copy().values"
   ]
  },
  {
   "cell_type": "markdown",
   "metadata": {},
   "source": [
    "# Linear regression"
   ]
  },
  {
   "cell_type": "code",
   "execution_count": null,
   "metadata": {},
   "outputs": [],
   "source": [
    "lr = LinearRegression()\n",
    "lr.fit(X_train, y_train)\n",
    "\n",
    "print(\"Train RMSE:\", rmse(lr, X_train, y_train))\n",
    "print(\"Train Pearson's R:\", peason_r(lr, X_train, y_train))\n",
    "\n",
    "print(\"Test RMSE:\", rmse(lr, X_test, y_test))\n",
    "print(\"Test Pearson's R:\", peason_r(lr, X_test, y_test))"
   ]
  },
  {
   "cell_type": "code",
   "execution_count": null,
   "metadata": {},
   "outputs": [],
   "source": [
    "y_test_pred = lr.predict(X_test)\n",
    "test_pred_df = pd.DataFrame({\"dG\": y_test, \"pred\": y_test_pred})\n",
    "test_pred_df.to_csv(\"results/lr_default/test_pred.csv\", index=False)"
   ]
  },
  {
   "cell_type": "code",
   "execution_count": null,
   "metadata": {},
   "outputs": [],
   "source": [
    "ridge = Ridge()\n",
    "\n",
    "params = {\"alpha\": hp.loguniform(\"alpha\", np.log(1e-10), np.log(1e10)),}\n",
    "\n",
    "num_eval = 100\n",
    "\n",
    "trials, best_params, best_model = hyperopt_reg(ridge, params, X_train, y_train, num_eval)\n",
    "print(\"best_params:\", best_params)\n",
    "\n",
    "print(\"Train RMSE:\", rmse(best_model, X_train, y_train))\n",
    "print(\"Train Pearson's R:\", peason_r(best_model, X_train, y_train))\n",
    "\n",
    "print(\"Test RMSE:\", rmse(best_model, X_test, y_test))\n",
    "print(\"Test Pearson's R:\", peason_r(best_model, X_test, y_test))\n",
    "\n",
    "pickle.dump(best_model, open(\"models/lr_01.pkl\", \"wb\"))"
   ]
  },
  {
   "cell_type": "code",
   "execution_count": null,
   "metadata": {},
   "outputs": [],
   "source": [
    "model = pickle.load(open(\"models/lr_01.pkl\", \"rb\"))\n",
    "y_test_pred = model.predict(X_test)\n",
    "test_pred_df = pd.DataFrame({\"dG\": y_test, \"pred\": y_test_pred})\n",
    "test_pred_df.to_csv(\"results/lr/test_pred.csv\", index=False)"
   ]
  },
  {
   "cell_type": "markdown",
   "metadata": {},
   "source": [
    "# Random Forest"
   ]
  },
  {
   "cell_type": "code",
   "execution_count": null,
   "metadata": {},
   "outputs": [],
   "source": [
    "params = {\n",
    "    \"max_depth\": scope.int(hp.quniform(\"max_depth\", 2, 14, 1)),\n",
    "    \"min_samples_split\": scope.int(hp.quniform(\"min_samples_split\", 2, 20, 2)),\n",
    "    \"min_samples_leaf\": scope.int(hp.quniform(\"min_samples_leaf\", 2, 20, 2)), \n",
    "    \"max_features\": scope.int(hp.quniform(\"max_features\", 10, 60, 5)),\n",
    "}\n",
    "\n",
    "params_fixed = {\n",
    "    \"n_estimators\": 1000\n",
    "}\n",
    "\n",
    "\n",
    "num_eval = 100\n",
    "\n",
    "rf = RandomForestRegressor()\n",
    "\n",
    "trials, best_params, best_model = hyperopt_reg(rf, params, X_train, y_train, num_eval, params_fixed=params_fixed)\n",
    "print(\"best_params:\", best_params)\n",
    "\n",
    "print(\"Train RMSE:\", rmse(best_model, X_train, y_train))\n",
    "print(\"Train Pearson's R:\", peason_r(best_model, X_train, y_train))\n",
    "\n",
    "print(\"Test RMSE:\", rmse(best_model, X_test, y_test))\n",
    "print(\"Test Pearson's R:\", peason_r(best_model, X_test, y_test))\n",
    "\n",
    "pickle.dump(best_model, open(\"models/rf_01.pkl\", \"wb\"))"
   ]
  },
  {
   "cell_type": "code",
   "execution_count": null,
   "metadata": {},
   "outputs": [],
   "source": [
    "model = pickle.load(open(\"models/rf_01.pkl\", \"rb\"))\n",
    "y_test_pred = model.predict(X_test)\n",
    "test_pred_df = pd.DataFrame({\"dG\": y_test, \"pred\": y_test_pred})\n",
    "test_pred_df.to_csv(\"results/rf/test_pred.csv\", index=False)"
   ]
  },
  {
   "cell_type": "code",
   "execution_count": null,
   "metadata": {},
   "outputs": [],
   "source": [
    "pdXY_pred = pdXY[[\"smiles\", \"code\", \"dG\"] + PDX_COLS].copy()\n",
    "ii1 = pdXY_pred[\"MaxAbsPartialCharge\"] != np.inf\n",
    "ii2 = pdXY_pred[\"MinPartialCharge\"] != np.inf\n",
    "ii3 = pdXY_pred[\"MinAbsPartialCharge\"] != np.inf\n",
    "ii4 = pdXY_pred[\"MaxPartialCharge\"] != np.inf\n",
    "\n",
    "pdXY_pred = pdXY_pred[ii1 & ii2 & ii3 & ii4]\n",
    "\n",
    "model = pickle.load(open(\"models/rf_01.pkl\", \"rb\"))\n",
    "pdXY_pred[\"pred\"] = model.predict(pdXY_pred[PDX_COLS].values)\n",
    "pdXY_pred[[\"smiles\", \"code\", \"dG\"] + [\"pred\"]].to_csv(\"results/rf/pred_rf_01.csv\", index=False)"
   ]
  },
  {
   "cell_type": "code",
   "execution_count": null,
   "metadata": {},
   "outputs": [],
   "source": [
    "pdXY_pred[[\"smiles\", \"code\", \"dG\"] + [\"pred\"]].isnull().sum()"
   ]
  },
  {
   "cell_type": "code",
   "execution_count": null,
   "metadata": {},
   "outputs": [],
   "source": [
    "pdXY_pred.head()"
   ]
  },
  {
   "cell_type": "code",
   "execution_count": null,
   "metadata": {},
   "outputs": [],
   "source": [
    "pdXY_pred[PDX_COLS].max().sort_values()"
   ]
  },
  {
   "cell_type": "code",
   "execution_count": null,
   "metadata": {},
   "outputs": [],
   "source": [
    "pred = pd.read_csv(\"results/rf/pred_rf_01.csv\")\n",
    "pred.head()"
   ]
  },
  {
   "cell_type": "code",
   "execution_count": null,
   "metadata": {},
   "outputs": [],
   "source": [
    "pred[\"code\"].unique()"
   ]
  },
  {
   "cell_type": "code",
   "execution_count": null,
   "metadata": {},
   "outputs": [],
   "source": [
    "vietherbs = pred.loc[pred[\"code\"] == 'vietherbs', [\"smiles\", \"pred\"]].sort_values(by=\"pred\")\n",
    "vietherbs.to_csv(\"results/rf/vietherbs.csv\", index=False)\n",
    "vietherbs.head()"
   ]
  },
  {
   "cell_type": "code",
   "execution_count": null,
   "metadata": {},
   "outputs": [],
   "source": [
    "chembl_27 = pred.loc[pred[\"code\"] == 'chembl_27', [\"smiles\", \"pred\"]].sort_values(by=\"pred\")\n",
    "chembl_27.to_csv(\"results/chembl_27.csv\", index=False)\n",
    "chembl_27.head()"
   ]
  },
  {
   "cell_type": "markdown",
   "metadata": {},
   "source": [
    "# XGBOOST"
   ]
  },
  {
   "cell_type": "code",
   "execution_count": null,
   "metadata": {},
   "outputs": [],
   "source": [
    "params = {\n",
    "    \"max_depth\": scope.int(hp.quniform(\"max_depth\", 2, 8, 1)),\n",
    "    \"min_child_weight\": scope.int(hp.quniform(\"min_child_weight\", 1, 14, 1)), \n",
    "    \"subsample\": hp.uniform(\"subsample\", 0.4, 1.0),\n",
    "    \"colsample_bytree\": hp.uniform(\"colsample_bytree\", 0.2, 1.0),\n",
    "    \"reg_lambda\": hp.loguniform(\"reg_lambda\", np.log(0.00001), np.log(100)),\n",
    "    #\"reg_alpha\": hp.loguniform(\"reg_alpha\", np.log(0.001), np.log(1000)),\n",
    "    \"learning_rate\": hp.loguniform(\"learning_rate\", np.log(0.0001), np.log(1.)),\n",
    "    #\"gamma\": hp.uniform(\"gamma\", 0., 5.),\n",
    "}\n",
    "\n",
    "params_fixed = {\n",
    "    \"tree_method\": \"gpu_hist\",\n",
    "    \"predictor\": \"gpu_predictor\",\n",
    "    \"n_estimators\": 300\n",
    "}\n",
    "\n",
    "\n",
    "num_eval = 100\n",
    "\n",
    "xgb = XGBRegressor()\n",
    "\n",
    "trials, best_params, best_model = hyperopt_reg(xgb, params, X_train, y_train, num_eval, params_fixed=params_fixed)\n",
    "print(\"best_params:\", best_params)\n",
    "\n",
    "print(\"Train RMSE:\", rmse(best_model, X_train, y_train))\n",
    "print(\"Train Pearson's R:\", peason_r(best_model, X_train, y_train))\n",
    "\n",
    "print(\"Test RMSE:\", rmse(best_model, X_test, y_test))\n",
    "print(\"Test Pearson's R:\", peason_r(best_model, X_test, y_test))\n",
    "\n",
    "pickle.dump(best_model, open(\"models/xbg_01.pkl\", \"wb\"))"
   ]
  },
  {
   "cell_type": "code",
   "execution_count": null,
   "metadata": {},
   "outputs": [],
   "source": [
    "model = pickle.load(open(\"models/xbg_01.pkl\", \"rb\"))\n",
    "y_test_pred = model.predict(X_test)\n",
    "test_pred_df = pd.DataFrame({\"dG\": y_test, \"pred\": y_test_pred})\n",
    "test_pred_df.to_csv(\"results/xgb/test_pred.csv\", index=False)"
   ]
  },
  {
   "cell_type": "code",
   "execution_count": null,
   "metadata": {},
   "outputs": [],
   "source": [
    "test_pred_df[\"dG\"].min(), test_pred_df[\"dG\"].max()"
   ]
  },
  {
   "cell_type": "code",
   "execution_count": null,
   "metadata": {},
   "outputs": [],
   "source": [
    "pdXY_pred = pdXY[[\"smiles\", \"code\", \"dG\"] + PDX_COLS].copy()\n",
    "ii1 = pdXY_pred[\"MaxAbsPartialCharge\"] != np.inf\n",
    "ii2 = pdXY_pred[\"MinPartialCharge\"] != np.inf\n",
    "ii3 = pdXY_pred[\"MinAbsPartialCharge\"] != np.inf\n",
    "ii4 = pdXY_pred[\"MaxPartialCharge\"] != np.inf\n",
    "\n",
    "pdXY_pred = pdXY_pred[ii1 & ii2 & ii3 & ii4]\n",
    "\n",
    "model = pickle.load(open(\"models/xbg_01.pkl\", \"rb\"))\n",
    "pdXY_pred[\"pred\"] = model.predict(pdXY_pred[PDX_COLS].values)\n",
    "pdXY_pred[[\"smiles\", \"code\", \"dG\"] + [\"pred\"]].to_csv(\"results/xgb/pred_rf_01.csv\", index=False)"
   ]
  },
  {
   "cell_type": "code",
   "execution_count": null,
   "metadata": {},
   "outputs": [],
   "source": [
    "vietherbs = pred.loc[pred[\"code\"] == 'vietherbs', [\"smiles\", \"pred\"]].sort_values(by=\"pred\")\n",
    "vietherbs.to_csv(\"results/xgb/vietherbs.csv\", index=False)\n",
    "vietherbs.head()"
   ]
  },
  {
   "cell_type": "code",
   "execution_count": null,
   "metadata": {},
   "outputs": [],
   "source": [
    "vietherbs[\"pred\"].min(), vietherbs[\"pred\"].max()"
   ]
  },
  {
   "cell_type": "code",
   "execution_count": null,
   "metadata": {},
   "outputs": [],
   "source": [
    "chembl_27 = pred.loc[pred[\"code\"] == 'chembl_27', [\"smiles\", \"pred\"]].sort_values(by=\"pred\")\n",
    "chembl_27.to_csv(\"results/xgb/chembl_27.csv\", index=False)\n",
    "chembl_27.head()"
   ]
  },
  {
   "cell_type": "code",
   "execution_count": null,
   "metadata": {},
   "outputs": [],
   "source": [
    "chembl_27[\"pred\"].min(), chembl_27[\"pred\"].max()"
   ]
  },
  {
   "cell_type": "code",
   "execution_count": null,
   "metadata": {},
   "outputs": [],
   "source": [
    "chembl_27.shape"
   ]
  },
  {
   "cell_type": "code",
   "execution_count": null,
   "metadata": {},
   "outputs": [],
   "source": [
    "chembl_27_id = pd.read_table(\"../AchE_ML/data/raw/chembl_27.smi\", sep=\"\\s+\", header=None)\n",
    "chembl_27_id = chembl_27_id.rename(columns={0: \"smiles\", 1: \"chembl_id\"})\n",
    "print(\"chembl_27_id\", chembl_27_id.shape)\n",
    "chembl_27_id = chembl_27_id.drop_duplicates(subset=[\"smiles\"])\n",
    "print(\"chembl_27_id\", chembl_27_id.shape)\n",
    "chembl_27_id.head()\n",
    "\n",
    "chembl_27 = pd.read_csv(\"results/xgb/chembl_27.csv\")\n",
    "print(\"chembl_27\", chembl_27.shape)\n",
    "chembl_27 = chembl_27.merge(chembl_27_id, how=\"left\", on=\"smiles\")\n",
    "print(\"chembl_27\", chembl_27.shape)\n",
    "chembl_27.to_csv(\"results/xgb/chembl_27_with_id.csv\", index=False)"
   ]
  },
  {
   "cell_type": "code",
   "execution_count": null,
   "metadata": {},
   "outputs": [],
   "source": [
    "nirmatrelvir = pd.read_csv(\"data/process/pdXY_nirm_rdkit_descriptors_105ft_clean.csv\")\n",
    "model = pickle.load(open(\"models/xbg_01.pkl\", \"rb\"))\n",
    "nirmatrelvir[\"pred\"] = model.predict(nirmatrelvir[PDX_COLS].values)\n",
    "nirmatrelvir[[\"smiles\", \"code\", \"dG\"] + [\"pred\"]].to_csv(\"results/xgb/nirmatrelvir.csv\", index=False)"
   ]
  },
  {
   "cell_type": "code",
   "execution_count": null,
   "metadata": {},
   "outputs": [],
   "source": [
    "display_df(nirmatrelvir[[\"smiles\", \"code\", \"dG\"] + [\"pred\"]])"
   ]
  },
  {
   "cell_type": "code",
   "execution_count": null,
   "metadata": {},
   "outputs": [],
   "source": []
  }
 ],
 "metadata": {
  "kernelspec": {
   "display_name": "Python 3",
   "language": "python",
   "name": "python3"
  },
  "language_info": {
   "codemirror_mode": {
    "name": "ipython",
    "version": 3
   },
   "file_extension": ".py",
   "mimetype": "text/x-python",
   "name": "python",
   "nbconvert_exporter": "python",
   "pygments_lexer": "ipython3",
   "version": "3.7.3"
  }
 },
 "nbformat": 4,
 "nbformat_minor": 4
}
